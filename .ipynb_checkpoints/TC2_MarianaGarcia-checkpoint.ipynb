{
 "cells": [
  {
   "cell_type": "code",
   "execution_count": 2,
   "id": "606ce5f6-92ac-4048-91b7-cccb636e7bb5",
   "metadata": {},
   "outputs": [
    {
     "name": "stdout",
     "output_type": "stream",
     "text": [
      "Links:\n",
      "   movieId  imdbId   tmdbId\n",
      "0        1  114709    862.0\n",
      "1        2  113497   8844.0\n",
      "2        3  113228  15602.0\n",
      "3        4  114885  31357.0\n",
      "4        5  113041  11862.0 \n",
      "\n",
      "Movies:\n",
      "   movieId                               title  \\\n",
      "0        1                    Toy Story (1995)   \n",
      "1        2                      Jumanji (1995)   \n",
      "2        3             Grumpier Old Men (1995)   \n",
      "3        4            Waiting to Exhale (1995)   \n",
      "4        5  Father of the Bride Part II (1995)   \n",
      "\n",
      "                                        genres  \n",
      "0  Adventure|Animation|Children|Comedy|Fantasy  \n",
      "1                   Adventure|Children|Fantasy  \n",
      "2                               Comedy|Romance  \n",
      "3                         Comedy|Drama|Romance  \n",
      "4                                       Comedy   \n",
      "\n",
      "Ratings:\n",
      "   userId  movieId  rating  timestamp\n",
      "0       1        1     4.0  964982703\n",
      "1       1        3     4.0  964981247\n",
      "2       1        6     4.0  964982224\n",
      "3       1       47     5.0  964983815\n",
      "4       1       50     5.0  964982931 \n",
      "\n",
      "Tags:\n",
      "   userId  movieId              tag   timestamp\n",
      "0       2    60756            funny  1445714994\n",
      "1       2    60756  Highly quotable  1445714996\n",
      "2       2    60756     will ferrell  1445714992\n",
      "3       2    89774     Boxing story  1445715207\n",
      "4       2    89774              MMA  1445715200\n"
     ]
    }
   ],
   "source": [
    "import pandas as pd\n",
    "\n",
    "# Rutas de tus archivos\n",
    "path_base = \"C:/Users/maria/Desktop/sexto/ml-latest-small/\"\n",
    "\n",
    "# Leer cada archivo\n",
    "links_df = pd.read_csv(path_base + \"links.csv\")\n",
    "movies_df = pd.read_csv(path_base + \"movies.csv\")\n",
    "ratings_df = pd.read_csv(path_base + \"ratings.csv\")\n",
    "tags_df = pd.read_csv(path_base + \"tags.csv\")\n",
    "\n",
    "# Verificar que se cargaron correctamente\n",
    "print(\"Links:\")\n",
    "print(links_df.head(), \"\\n\")\n",
    "\n",
    "print(\"Movies:\")\n",
    "print(movies_df.head(), \"\\n\")\n",
    "\n",
    "print(\"Ratings:\")\n",
    "print(ratings_df.head(), \"\\n\")\n",
    "\n",
    "print(\"Tags:\")\n",
    "print(tags_df.head())"
   ]
  },
  {
   "cell_type": "code",
   "execution_count": 2,
   "id": "a9f26e91-ebb3-4ee7-b709-3c2c9ad511cb",
   "metadata": {},
   "outputs": [
    {
     "name": "stdout",
     "output_type": "stream",
     "text": [
      "Links shape: (9742, 3)\n",
      "Movies shape: (9742, 3)\n",
      "Ratings shape: (100836, 4)\n",
      "Tags shape: (3683, 4)\n",
      "\n",
      "Columns in each dataset:\n",
      "Links: ['movieId', 'imdbId', 'tmdbId']\n",
      "Movies: ['movieId', 'title', 'genres']\n",
      "Ratings: ['userId', 'movieId', 'rating', 'timestamp']\n",
      "Tags: ['userId', 'movieId', 'tag', 'timestamp']\n"
     ]
    }
   ],
   "source": [
    "print(\"Links shape:\", links_df.shape)\n",
    "print(\"Movies shape:\", movies_df.shape)\n",
    "print(\"Ratings shape:\", ratings_df.shape)\n",
    "print(\"Tags shape:\", tags_df.shape)\n",
    "\n",
    "print(\"\\nColumns in each dataset:\")\n",
    "print(\"Links:\", links_df.columns.tolist())\n",
    "print(\"Movies:\", movies_df.columns.tolist())\n",
    "print(\"Ratings:\", ratings_df.columns.tolist())\n",
    "print(\"Tags:\", tags_df.columns.tolist())\n"
   ]
  },
  {
   "cell_type": "code",
   "execution_count": 3,
   "id": "c213bf4f-4d54-4e22-a974-58db3e4cf76e",
   "metadata": {},
   "outputs": [
    {
     "name": "stdout",
     "output_type": "stream",
     "text": [
      "\n",
      "Null values:\n",
      "Links:\n",
      " movieId    0\n",
      "imdbId     0\n",
      "tmdbId     8\n",
      "dtype: int64\n",
      "Movies:\n",
      " movieId    0\n",
      "title      0\n",
      "genres     0\n",
      "dtype: int64\n",
      "Ratings:\n",
      " userId       0\n",
      "movieId      0\n",
      "rating       0\n",
      "timestamp    0\n",
      "dtype: int64\n",
      "Tags:\n",
      " userId       0\n",
      "movieId      0\n",
      "tag          0\n",
      "timestamp    0\n",
      "dtype: int64\n",
      "\n",
      "Data types:\n",
      "Movies:\n",
      " movieId     int64\n",
      "title      object\n",
      "genres     object\n",
      "dtype: object\n"
     ]
    }
   ],
   "source": [
    "print(\"\\nNull values:\")\n",
    "print(\"Links:\\n\", links_df.isnull().sum())\n",
    "print(\"Movies:\\n\", movies_df.isnull().sum())\n",
    "print(\"Ratings:\\n\", ratings_df.isnull().sum())\n",
    "print(\"Tags:\\n\", tags_df.isnull().sum())\n",
    "\n",
    "print(\"\\nData types:\")\n",
    "print(\"Movies:\\n\", movies_df.dtypes)\n"
   ]
  },
  {
   "cell_type": "code",
   "execution_count": 3,
   "id": "5c02df21-3f32-49c1-bd4b-bc39937458cc",
   "metadata": {},
   "outputs": [
    {
     "name": "stdout",
     "output_type": "stream",
     "text": [
      "\n",
      "Ratings summary:\n",
      "count    100836.000000\n",
      "mean          3.501557\n",
      "std           1.042529\n",
      "min           0.500000\n",
      "25%           3.000000\n",
      "50%           3.500000\n",
      "75%           4.000000\n",
      "max           5.000000\n",
      "Name: rating, dtype: float64\n"
     ]
    },
    {
     "ename": "ModuleNotFoundError",
     "evalue": "No module named 'seaborn'",
     "output_type": "error",
     "traceback": [
      "\u001b[31m---------------------------------------------------------------------------\u001b[39m",
      "\u001b[31mModuleNotFoundError\u001b[39m                       Traceback (most recent call last)",
      "\u001b[36mCell\u001b[39m\u001b[36m \u001b[39m\u001b[32mIn[3]\u001b[39m\u001b[32m, line 6\u001b[39m\n\u001b[32m      4\u001b[39m \u001b[38;5;66;03m# Distribución de ratings\u001b[39;00m\n\u001b[32m      5\u001b[39m \u001b[38;5;28;01mimport\u001b[39;00m\u001b[38;5;250m \u001b[39m\u001b[34;01mmatplotlib\u001b[39;00m\u001b[34;01m.\u001b[39;00m\u001b[34;01mpyplot\u001b[39;00m\u001b[38;5;250m \u001b[39m\u001b[38;5;28;01mas\u001b[39;00m\u001b[38;5;250m \u001b[39m\u001b[34;01mplt\u001b[39;00m\n\u001b[32m----> \u001b[39m\u001b[32m6\u001b[39m \u001b[38;5;28;01mimport\u001b[39;00m\u001b[38;5;250m \u001b[39m\u001b[34;01mseaborn\u001b[39;00m\u001b[38;5;250m \u001b[39m\u001b[38;5;28;01mas\u001b[39;00m\u001b[38;5;250m \u001b[39m\u001b[34;01msns\u001b[39;00m\n\u001b[32m      8\u001b[39m plt.figure(figsize=(\u001b[32m8\u001b[39m, \u001b[32m5\u001b[39m))\n\u001b[32m      9\u001b[39m sns.histplot(ratings_df[\u001b[33m'\u001b[39m\u001b[33mrating\u001b[39m\u001b[33m'\u001b[39m], bins=\u001b[32m10\u001b[39m, kde=\u001b[38;5;28;01mFalse\u001b[39;00m)\n",
      "\u001b[31mModuleNotFoundError\u001b[39m: No module named 'seaborn'"
     ]
    }
   ],
   "source": [
    "print(\"\\nRatings summary:\")\n",
    "print(ratings_df['rating'].describe())\n",
    "\n",
    "# Distribución de ratings\n",
    "import matplotlib.pyplot as plt\n",
    "import seaborn as sns\n",
    "\n",
    "plt.figure(figsize=(8, 5))\n",
    "sns.histplot(ratings_df['rating'], bins=10, kde=False)\n",
    "plt.title(\"Distribución de Ratings\")\n",
    "plt.xlabel(\"Rating\")\n",
    "plt.ylabel(\"Frecuencia\")\n",
    "plt.show()\n"
   ]
  },
  {
   "cell_type": "code",
   "execution_count": 5,
   "id": "fdff7fef-b21d-44da-8e56-6ed4bfec7724",
   "metadata": {},
   "outputs": [
    {
     "name": "stdout",
     "output_type": "stream",
     "text": [
      "\n",
      "Top 10 películas mejor valoradas:\n",
      "                                                  title  avg_rating  \\\n",
      "277                    Shawshank Redemption, The (1994)    4.429022   \n",
      "659                               Godfather, The (1972)    4.289062   \n",
      "2224                                  Fight Club (1999)    4.272936   \n",
      "974                               Cool Hand Luke (1967)    4.271930   \n",
      "602   Dr. Strangelove or: How I Learned to Stop Worr...    4.268041   \n",
      "686                                  Rear Window (1954)    4.261905   \n",
      "921                      Godfather: Part II, The (1974)    4.259690   \n",
      "6298                               Departed, The (2006)    4.252336   \n",
      "913                                   Goodfellas (1990)    4.250000   \n",
      "694                                   Casablanca (1942)    4.240000   \n",
      "\n",
      "      rating_count  \n",
      "277            317  \n",
      "659            192  \n",
      "2224           218  \n",
      "974             57  \n",
      "602             97  \n",
      "686             84  \n",
      "921            129  \n",
      "6298           107  \n",
      "913            126  \n",
      "694            100  \n"
     ]
    }
   ],
   "source": [
    "# Contar número de ratings por película\n",
    "rating_counts = ratings_df.groupby('movieId')['rating'].count().reset_index()\n",
    "rating_counts.columns = ['movieId', 'rating_count']\n",
    "\n",
    "# Promedio de rating por película\n",
    "rating_means = ratings_df.groupby('movieId')['rating'].mean().reset_index()\n",
    "rating_means.columns = ['movieId', 'avg_rating']\n",
    "\n",
    "# Unir con el DataFrame de películas\n",
    "movie_stats = movies_df.merge(rating_counts, on='movieId').merge(rating_means, on='movieId')\n",
    "\n",
    "# Top 10 más valoradas (con al menos 50 ratings)\n",
    "top_rated = movie_stats[movie_stats['rating_count'] >= 50].sort_values(by='avg_rating', ascending=False)\n",
    "\n",
    "print(\"\\nTop 10 películas mejor valoradas:\")\n",
    "print(top_rated[['title', 'avg_rating', 'rating_count']].head(10))\n"
   ]
  },
  {
   "cell_type": "code",
   "execution_count": 6,
   "id": "473ef388-eeef-474d-a7e1-f0875041145e",
   "metadata": {},
   "outputs": [
    {
     "name": "stdout",
     "output_type": "stream",
     "text": [
      "\n",
      "Géneros más comunes:\n",
      "Drama: 4361\n",
      "Comedy: 3756\n",
      "Thriller: 1894\n",
      "Action: 1828\n",
      "Romance: 1596\n",
      "Adventure: 1263\n",
      "Crime: 1199\n",
      "Sci-Fi: 980\n",
      "Horror: 978\n",
      "Fantasy: 779\n"
     ]
    },
    {
     "ename": "NameError",
     "evalue": "name 'sns' is not defined",
     "output_type": "error",
     "traceback": [
      "\u001b[31m---------------------------------------------------------------------------\u001b[39m",
      "\u001b[31mNameError\u001b[39m                                 Traceback (most recent call last)",
      "\u001b[36mCell\u001b[39m\u001b[36m \u001b[39m\u001b[32mIn[6]\u001b[39m\u001b[32m, line 14\u001b[39m\n\u001b[32m     12\u001b[39m \u001b[38;5;66;03m# Visualizar\u001b[39;00m\n\u001b[32m     13\u001b[39m plt.figure(figsize=(\u001b[32m10\u001b[39m, \u001b[32m6\u001b[39m))\n\u001b[32m---> \u001b[39m\u001b[32m14\u001b[39m \u001b[43msns\u001b[49m.barplot(x=\u001b[38;5;28mlist\u001b[39m(genre_counts.keys()), y=\u001b[38;5;28mlist\u001b[39m(genre_counts.values()))\n\u001b[32m     15\u001b[39m plt.xticks(rotation=\u001b[32m45\u001b[39m)\n\u001b[32m     16\u001b[39m plt.title(\u001b[33m\"\u001b[39m\u001b[33mFrecuencia de géneros\u001b[39m\u001b[33m\"\u001b[39m)\n",
      "\u001b[31mNameError\u001b[39m: name 'sns' is not defined"
     ]
    },
    {
     "data": {
      "text/plain": [
       "<Figure size 1000x600 with 0 Axes>"
      ]
     },
     "metadata": {},
     "output_type": "display_data"
    }
   ],
   "source": [
    "# Separar los géneros\n",
    "from collections import Counter\n",
    "\n",
    "genres = movies_df['genres'].str.split('|').sum()\n",
    "genre_counts = Counter(genres)\n",
    "\n",
    "# Mostrar top géneros\n",
    "print(\"\\nGéneros más comunes:\")\n",
    "for genre, count in genre_counts.most_common(10):\n",
    "    print(f\"{genre}: {count}\")\n",
    "\n",
    "# Visualizar\n",
    "plt.figure(figsize=(10, 6))\n",
    "sns.barplot(x=list(genre_counts.keys()), y=list(genre_counts.values()))\n",
    "plt.xticks(rotation=45)\n",
    "plt.title(\"Frecuencia de géneros\")\n",
    "plt.xlabel(\"Género\")\n",
    "plt.ylabel(\"Número de películas\")\n",
    "plt.tight_layout()\n",
    "plt.show()\n"
   ]
  }
 ],
 "metadata": {
  "kernelspec": {
   "display_name": "Python 3 (ipykernel)",
   "language": "python",
   "name": "python3"
  },
  "language_info": {
   "codemirror_mode": {
    "name": "ipython",
    "version": 3
   },
   "file_extension": ".py",
   "mimetype": "text/x-python",
   "name": "python",
   "nbconvert_exporter": "python",
   "pygments_lexer": "ipython3",
   "version": "3.12.10"
  }
 },
 "nbformat": 4,
 "nbformat_minor": 5
}
